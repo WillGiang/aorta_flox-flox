{
 "cells": [
  {
   "cell_type": "code",
   "execution_count": 1,
   "metadata": {
    "collapsed": true
   },
   "outputs": [],
   "source": [
    "import numpy as np\n",
    "import pandas as pd\n",
    "import seaborn as sns\n",
    "import matplotlib\n",
    "%matplotlib inline\n",
    "import matplotlib.pyplot as plt\n",
    "\n",
    "from skimage import io\n",
    "from glob import glob"
   ]
  },
  {
   "cell_type": "code",
   "execution_count": 2,
   "metadata": {
    "collapsed": true
   },
   "outputs": [],
   "source": [
    "mut_crop_dir = \"../data-processed/crops/nice/mut/\"\n",
    "\n",
    "imgs = sorted(glob(mut_crop_dir+\"Image*.tif\"))\n"
   ]
  },
  {
   "cell_type": "code",
   "execution_count": 3,
   "metadata": {},
   "outputs": [
    {
     "ename": "IndexError",
     "evalue": "list index out of range",
     "output_type": "error",
     "traceback": [
      "\u001b[1;31m---------------------------------------------------------------------------\u001b[0m",
      "\u001b[1;31mIndexError\u001b[0m                                Traceback (most recent call last)",
      "\u001b[1;32m<ipython-input-3-71bba4a41956>\u001b[0m in \u001b[0;36m<module>\u001b[1;34m()\u001b[0m\n\u001b[1;32m----> 1\u001b[1;33m \u001b[0mimarrayRG\u001b[0m \u001b[1;33m=\u001b[0m \u001b[0mio\u001b[0m\u001b[1;33m.\u001b[0m\u001b[0mimread\u001b[0m\u001b[1;33m(\u001b[0m\u001b[0mimgs\u001b[0m\u001b[1;33m[\u001b[0m\u001b[1;33m-\u001b[0m\u001b[1;36m1\u001b[0m\u001b[1;33m]\u001b[0m\u001b[1;33m)\u001b[0m\u001b[1;33m\u001b[0m\u001b[0m\n\u001b[0m\u001b[0;32m      2\u001b[0m \u001b[1;33m\u001b[0m\u001b[0m\n\u001b[0;32m      3\u001b[0m print(\"dtype:{}, shape:{}, min:{}, max:{}\".format(\n\u001b[0;32m      4\u001b[0m     imarrayRG.dtype, imarrayRG.shape, imarrayRG.min(), imarrayRG.max()))\n\u001b[0;32m      5\u001b[0m \u001b[1;33m\u001b[0m\u001b[0m\n",
      "\u001b[1;31mIndexError\u001b[0m: list index out of range"
     ]
    }
   ],
   "source": [
    "imarrayRG = io.imread(imgs[-1])\n",
    "\n",
    "print(\"dtype:{}, shape:{}, min:{}, max:{}\".format(\n",
    "    imarrayRG.dtype, imarrayRG.shape, imarrayRG.min(), imarrayRG.max()))\n",
    "\n",
    "color = 'Reds'\n",
    "name = 'VE-Cad'\n",
    "\n",
    "\n",
    "R = imarrayRG[:,:,0]\n",
    "## Plotting under this line ##\n",
    "fig, ax = plt.subplots(figsize=(2,2))\n",
    "\n",
    "\n",
    "ax.imshow(R, cmap=color)\n",
    "ax.set_title(name)\n",
    "ax.set_axis_off()"
   ]
  },
  {
   "cell_type": "code",
   "execution_count": null,
   "metadata": {},
   "outputs": [],
   "source": [
    "from skimage.filters import threshold_otsu, threshold_local\n",
    "\n",
    "val_otsu = threshold_otsu(R)\n",
    "mask = R > val_otsu\n",
    "\n",
    "print(\"otsu value:{}\".format(val_otsu))\n",
    "\n",
    "val_local = threshold_local(R, block_size=3)\n",
    "mask_local = R > val_local\n",
    "#fig, ax = filters.try_all_threshold(R)\n",
    "#fig, ax = plt.subplots(figsize=(8,8))\n",
    "#ax.imshow(mask)\n",
    "#plt.show()\n",
    "\n",
    "fig, ax = plt.subplots(figsize=(2,2))\n",
    "ax.imshow(mask)"
   ]
  },
  {
   "cell_type": "code",
   "execution_count": null,
   "metadata": {},
   "outputs": [],
   "source": [
    "from skimage.filters import threshold_li\n",
    "\n",
    "val_li = threshold_li(R)\n",
    "mask = R > val_li\n",
    "\n",
    "print(\"li value:{}\".format(val_li))\n",
    "\n",
    "fig, ax = plt.subplots(figsize=(2,2))\n",
    "ax.imshow(mask)"
   ]
  },
  {
   "cell_type": "code",
   "execution_count": null,
   "metadata": {
    "scrolled": true
   },
   "outputs": [],
   "source": [
    "from skimage.morphology import binary_closing, erosion, opening\n",
    "\n",
    "result = opening(mask)\n",
    "fig, ax = plt.subplots(1,2, figsize=(2,2))\n",
    "ax[0].imshow(result)\n",
    "ax[1].imshow(R)"
   ]
  },
  {
   "cell_type": "code",
   "execution_count": null,
   "metadata": {
    "collapsed": true
   },
   "outputs": [],
   "source": [
    "otsu_vals = []\n",
    "li_vals = []\n",
    "opened_results = []\n",
    "img_arrays = []\n",
    "\n",
    "otsu_means = []\n",
    "li_means = []\n",
    "opened_means = []\n",
    "is_p120 = []\n",
    "n = []\n",
    "\n",
    "for img_file in imgs:\n",
    "    is_p120.append(\"+\" in img_file)\n",
    "    img = io.imread(img_file)[:,:,0]\n",
    "    img_arrays.append(img)\n",
    "    \n",
    "    temp_otsu_val = threshold_otsu(img)    \n",
    "    temp_li_val = threshold_li(img)\n",
    "    opened_result = opening(img > temp_li_val)\n",
    "    \n",
    "    otsu_mean = img[img > temp_otsu_val].mean()\n",
    "    li_mean = img[img > temp_li_val].mean()\n",
    "    opened_mean = img[opened_result].mean()\n",
    "    \n",
    "    otsu_means.append(otsu_mean)\n",
    "    otsu_vals.append(temp_otsu_val)\n",
    "    li_means.append(li_mean)\n",
    "    li_vals.append(temp_li_val)\n",
    "    opened_results.append(opened_result)\n",
    "    opened_means.append(opened_mean)\n",
    "    n.append(np.sum(opened_result))\n",
    "\n",
    "is_p120 = np.asarray(is_p120)\n",
    "opened_means = np.asarray(opened_means)\n",
    "li_means = np.asarray(li_means)\n",
    "n = np.asarray(n)"
   ]
  },
  {
   "cell_type": "code",
   "execution_count": null,
   "metadata": {},
   "outputs": [],
   "source": [
    "opened_means[~is_p120]"
   ]
  },
  {
   "cell_type": "code",
   "execution_count": null,
   "metadata": {
    "collapsed": true
   },
   "outputs": [],
   "source": [
    "def weighted_std(values, weights):\n",
    "    weighted_avg = np.average(values, weights=weights)\n",
    "    variance = np.average((values - weighted_avg)**2, weights=weights)\n",
    "    return np.sqrt(variance)"
   ]
  },
  {
   "cell_type": "code",
   "execution_count": null,
   "metadata": {
    "collapsed": true
   },
   "outputs": [],
   "source": [
    "p120_pos_std = weighted_std(opened_means[is_p120], weights = n[is_p120])"
   ]
  },
  {
   "cell_type": "code",
   "execution_count": null,
   "metadata": {
    "collapsed": true
   },
   "outputs": [],
   "source": [
    "p120_neg_std =weighted_std(opened_means[~is_p120], weights = n[~is_p120])"
   ]
  },
  {
   "cell_type": "code",
   "execution_count": null,
   "metadata": {},
   "outputs": [],
   "source": [
    "p120_pos_avg = np.average(opened_means[is_p120], weights = n[is_p120])\n",
    "p120_neg_avg = np.average(opened_means[~is_p120], weights = n[~is_p120])\n",
    "\n",
    "print(\"p120+ weighted avg intensity:{}\".format(p120_pos_avg))\n",
    "print(\"p120- weighted avg intensity:{}\".format(p120_neg_avg))"
   ]
  },
  {
   "cell_type": "code",
   "execution_count": null,
   "metadata": {},
   "outputs": [],
   "source": [
    "print(\"p120+ unweighted avg intensity:{}\".format(np.mean(opened_means[is_p120])))\n",
    "print(\"p120- unweighted avg intensity:{}\".format(np.mean(opened_means[~is_p120])))"
   ]
  },
  {
   "cell_type": "code",
   "execution_count": null,
   "metadata": {},
   "outputs": [],
   "source": [
    "fig, axes = plt.subplots(7,6, figsize=(12,12))\n",
    "ax = axes.ravel()\n",
    "\n",
    "for i, a in enumerate(ax):\n",
    "    #a.imshow(img_arrays[i])\n",
    "    a.imshow(opened_results[i])\n",
    "    a.set_title('{}'.format(i))\n",
    "    a.axis('off')\n"
   ]
  },
  {
   "cell_type": "code",
   "execution_count": null,
   "metadata": {
    "scrolled": false
   },
   "outputs": [],
   "source": [
    "fig, axes = plt.subplots(7,6, figsize=(12,12))\n",
    "ax = axes.ravel()\n",
    "\n",
    "for i, a in enumerate(ax):\n",
    "    #a.imshow(img_arrays[i])\n",
    "    a.imshow(img_arrays[i] > li_means[i])\n",
    "    a.set_title('{}'.format(i))\n",
    "    a.axis('off')"
   ]
  },
  {
   "cell_type": "code",
   "execution_count": null,
   "metadata": {},
   "outputs": [],
   "source": [
    "from statsmodels.stats.weightstats import ttest_ind\n",
    "\n",
    "ttest_ind(opened_means[is_p120], opened_means[~is_p120],\n",
    "         alternative='larger',\n",
    "         usevar='unequal',\n",
    "         weights = [n[is_p120], n[~is_p120]],\n",
    "         value=0.)"
   ]
  },
  {
   "cell_type": "code",
   "execution_count": null,
   "metadata": {},
   "outputs": [],
   "source": [
    "## These means and stds are weighted\n",
    "means = (p120_pos_avg, p120_neg_avg)\n",
    "stds = (p120_pos_std, p120_neg_std)\n",
    "ind = np.arange(len(means))\n",
    "bar_names = (\"p120+\", \"p120-\")\n",
    "\n",
    "p_pos, p_neg = plt.bar(ind, means, yerr=stds, capsize=4)\n",
    "\n",
    "p_pos.set_facecolor('r')\n",
    "plt.ylim([0, 28000])\n",
    "plt.ylabel('Avg fluoresence intensity [a.u.]')\n",
    "plt.title(\"VE-Cad Cell Border Intensities from DEE/DEE Mutant\")\n",
    "plt.xticks(ind, bar_names)\n",
    "plt.savefig(\"../plots/bar_chart_ve-cad_border_intensities_Tie2-Cre_DEE-DEE_flox-flox.png\")\n",
    "plt.savefig(\"../plots/bar_chart_ve-cad_border_intensities_Tie2-Cre_DEE-DEE_flox-flox.pdf\")\n"
   ]
  },
  {
   "cell_type": "code",
   "execution_count": null,
   "metadata": {},
   "outputs": [],
   "source": [
    "p120_neg_avg / p120_pos_avg"
   ]
  },
  {
   "cell_type": "code",
   "execution_count": null,
   "metadata": {},
   "outputs": [],
   "source": [
    "normed_neg_p120_avg = p120_neg_avg/p120_pos_avg * 100\n",
    "normed_neg_p120_std = p120_neg_std/p120_pos_avg * 100\n",
    "\n",
    "means = (normed_neg_p120_avg)\n",
    "stds = (normed_neg_p120_std)\n",
    "ind = np.arange(1)\n",
    "#bar_names = (\"\")\n",
    "\n",
    "p_neg = plt.bar(ind, means, yerr=stds, capsize=4)\n",
    "\n",
    "plt.ylabel('% of wild type avg fluoresence intensity')\n",
    "plt.title(\"VE-Cad Cell Border Intensities\")\n",
    "plt.xticks(ind, \"\")\n",
    "plt.ylim([0, 100])\n",
    "\n",
    "plt.savefig(\"../plots/normalized_ve-cad-intensity_Tie2-Cre_DEE-DEE_flox-flox.png\")\n",
    "plt.savefig(\"../plots/normalized_ve-cad-intensity_Tie2-Cre_DEE-DEE_flox-flox.pdf\")"
   ]
  },
  {
   "cell_type": "code",
   "execution_count": null,
   "metadata": {},
   "outputs": [],
   "source": [
    "normed_neg_p120_std"
   ]
  },
  {
   "cell_type": "code",
   "execution_count": null,
   "metadata": {
    "collapsed": true
   },
   "outputs": [],
   "source": []
  }
 ],
 "metadata": {
  "kernelspec": {
   "display_name": "Python 3",
   "language": "python",
   "name": "python3"
  },
  "language_info": {
   "codemirror_mode": {
    "name": "ipython",
    "version": 3
   },
   "file_extension": ".py",
   "mimetype": "text/x-python",
   "name": "python",
   "nbconvert_exporter": "python",
   "pygments_lexer": "ipython3",
   "version": "3.6.2"
  }
 },
 "nbformat": 4,
 "nbformat_minor": 2
}
